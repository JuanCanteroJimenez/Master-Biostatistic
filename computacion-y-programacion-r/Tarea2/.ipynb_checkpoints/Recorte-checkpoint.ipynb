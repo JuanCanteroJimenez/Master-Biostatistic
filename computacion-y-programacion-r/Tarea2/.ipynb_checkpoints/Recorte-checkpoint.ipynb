{
 "cells": [
  {
   "cell_type": "code",
   "execution_count": 3,
   "metadata": {},
   "outputs": [],
   "source": [
    "with open(\"TAREA2_Juan_Cantero_Jimenez (copy).R\") as t:\n",
    "    data = t.readlines()"
   ]
  },
  {
   "cell_type": "code",
   "execution_count": 122,
   "metadata": {},
   "outputs": [],
   "source": [
    "import re\n",
    "n = 60\n",
    "result = []\n",
    "exp = re.compile(r\"#.*\\n\")\n",
    "for x in data:\n",
    "    test = exp.search(x)\n",
    "    if test:\n",
    "        result.append(x[0:test.span()[0]]+\"\\n\")\n",
    "        line = x[1+a.span()[0]:a.span()[1]-2]\n",
    "        while(len(line) > 60):\n",
    "            result.append(\"#\"+line[0:59]+\"\\n\")\n",
    "            line = line[59:len(line)]\n",
    "        result.append(\"#\"+line+\"\\n\")\n",
    "    else:\n",
    "        result.append(x)\n",
    "    \n",
    "        "
   ]
  },
  {
   "cell_type": "code",
   "execution_count": 115,
   "metadata": {},
   "outputs": [
    {
     "data": {
      "text/plain": [
       "<re.Match object; span=(39, 266), match='#Se seleccinan los casos impares haciendo uso de >"
      ]
     },
     "execution_count": 115,
     "metadata": {},
     "output_type": "execute_result"
    }
   ],
   "source": [
    "j = re.compile(\"#.*\\n\")\n",
    "j.search(data[3])"
   ]
  },
  {
   "cell_type": "code",
   "execution_count": 123,
   "metadata": {},
   "outputs": [],
   "source": [
    "with open(\"prueba.R\",\"w\") as f:\n",
    "    f.writelines(result)"
   ]
  }
 ],
 "metadata": {
  "kernelspec": {
   "display_name": "Python 3",
   "language": "python",
   "name": "python3"
  },
  "language_info": {
   "codemirror_mode": {
    "name": "ipython",
    "version": 3
   },
   "file_extension": ".py",
   "mimetype": "text/x-python",
   "name": "python",
   "nbconvert_exporter": "python",
   "pygments_lexer": "ipython3",
   "version": "3.8.10"
  }
 },
 "nbformat": 4,
 "nbformat_minor": 4
}
